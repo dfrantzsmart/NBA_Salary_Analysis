{
 "metadata": {
  "language_info": {
   "codemirror_mode": {
    "name": "ipython",
    "version": 3
   },
   "file_extension": ".py",
   "mimetype": "text/x-python",
   "name": "python",
   "nbconvert_exporter": "python",
   "pygments_lexer": "ipython3",
   "version": "3.7.6-final"
  },
  "orig_nbformat": 2,
  "kernelspec": {
   "name": "Python 3.7.6 64-bit ('base': conda)",
   "display_name": "Python 3.7.6 64-bit ('base': conda)",
   "metadata": {
    "interpreter": {
     "hash": "c59ab9589ab9721951ace112490e4bf0ea865c3f59dd6195158da930da3c1de9"
    }
   }
  }
 },
 "nbformat": 4,
 "nbformat_minor": 2,
 "cells": [
  {
   "cell_type": "code",
   "execution_count": 1,
   "metadata": {},
   "outputs": [],
   "source": [
    "from bs4 import BeautifulSoup\n",
    "import requests\n",
    "import re\n",
    "import itertools\n",
    "import pandas as pd\n",
    "import pickle"
   ]
  },
  {
   "cell_type": "code",
   "execution_count": 2,
   "metadata": {},
   "outputs": [],
   "source": [
    "# create a list of urls to parse data from\n",
    "url_list = []\n",
    "for i in range(1,15):\n",
    "    url = 'http://www.espn.com/nba/salaries/_/page/{}/seasontype/3'.format(i)\n",
    "    url_list.append(url)"
   ]
  },
  {
   "cell_type": "code",
   "execution_count": 3,
   "metadata": {},
   "outputs": [],
   "source": [
    "def get_player_salary(url):\n",
    "    response = requests.get(url)\n",
    "    page = response.text\n",
    "    soup = BeautifulSoup(page, 'lxml')\n",
    "    \n",
    "    headers = ['Name', 'Position', 'Team', 'Salary']\n",
    "    \n",
    "    player_info = {}\n",
    "    player_salary = []\n",
    "\n",
    "    # loop through even rows to find players\n",
    "    for player in soup.find('table').find_all('tr'):\n",
    "        try:\n",
    "            # skip the rows with header names\n",
    "            if player.find(class_='colhead'):\n",
    "                continue\n",
    "\n",
    "            name = player.find_all('td')[1].text.split(',')[0].strip()\n",
    "            position = player.find_all('td')[1].text.split(',')[1].strip()\n",
    "            team = player.find_all('td')[2].text.strip()\n",
    "            salary = player.find_all('td')[3].text.strip().split('$')[1]\n",
    "\n",
    "            player_info = dict(zip(headers, [name, position, team, salary]))\n",
    "            player_salary.append(player_info)\n",
    "        \n",
    "        except:\n",
    "            print(name)\n",
    "\n",
    "    return player_salary     "
   ]
  },
  {
   "cell_type": "code",
   "execution_count": 4,
   "metadata": {
    "tags": []
   },
   "outputs": [
    {
     "output_type": "stream",
     "name": "stdout",
     "text": "NAME\nNAME\nNAME\nNAME\nNAME\nNAME\nNAME\nNAME\nNAME\nNAME\nNAME\nNAME\nNAME\nNAME\nNAME\nNAME\nNAME\nNAME\nNAME\nNAME\nNAME\nNAME\nNAME\nNAME\nNAME\nNAME\nNAME\nNAME\nNAME\nNAME\nNAME\nNAME\nNAME\nNAME\nNAME\nNAME\nNAME\nNAME\nNAME\nNAME\nNAME\nNAME\nNAME\nNAME\nNAME\nNAME\nNAME\nNAME\nNAME\nNAME\nNAME\nNAME\nNAME\n"
    }
   ],
   "source": [
    "salary_list = []\n",
    "\n",
    "for url in url_list:\n",
    "    salary_list += (get_player_salary(url))\n",
    "\n",
    "pickle.dump(salary_list, open('salary_list.p', 'wb'))\n"
   ]
  },
  {
   "cell_type": "code",
   "execution_count": 7,
   "metadata": {},
   "outputs": [
    {
     "output_type": "execute_result",
     "data": {
      "text/plain": "                  Name Position                   Team      Salary\n0        Stephen Curry       PG  Golden State Warriors  40,231,758\n1           Chris Paul       PG  Oklahoma City Thunder  38,506,482\n2    Russell Westbrook       PG        Houston Rockets  38,506,482\n3            John Wall       PG     Washington Wizards  38,199,000\n4         Kevin Durant       SF          Brooklyn Nets  38,199,000\n..                 ...      ...                    ...         ...\n523    Jimmer Fredette        G           Phoenix Suns     208,509\n524      Jontay Porter       PF      Memphis Grizzlies     197,933\n525   Anthony Tolliver       PF      Memphis Grizzlies     183,115\n526      Tyler Johnson       SG           Phoenix Suns     183,115\n527      Luguentz Dort       SG  Oklahoma City Thunder     155,647\n\n[528 rows x 4 columns]",
      "text/html": "<div>\n<style scoped>\n    .dataframe tbody tr th:only-of-type {\n        vertical-align: middle;\n    }\n\n    .dataframe tbody tr th {\n        vertical-align: top;\n    }\n\n    .dataframe thead th {\n        text-align: right;\n    }\n</style>\n<table border=\"1\" class=\"dataframe\">\n  <thead>\n    <tr style=\"text-align: right;\">\n      <th></th>\n      <th>Name</th>\n      <th>Position</th>\n      <th>Team</th>\n      <th>Salary</th>\n    </tr>\n  </thead>\n  <tbody>\n    <tr>\n      <th>0</th>\n      <td>Stephen Curry</td>\n      <td>PG</td>\n      <td>Golden State Warriors</td>\n      <td>40,231,758</td>\n    </tr>\n    <tr>\n      <th>1</th>\n      <td>Chris Paul</td>\n      <td>PG</td>\n      <td>Oklahoma City Thunder</td>\n      <td>38,506,482</td>\n    </tr>\n    <tr>\n      <th>2</th>\n      <td>Russell Westbrook</td>\n      <td>PG</td>\n      <td>Houston Rockets</td>\n      <td>38,506,482</td>\n    </tr>\n    <tr>\n      <th>3</th>\n      <td>John Wall</td>\n      <td>PG</td>\n      <td>Washington Wizards</td>\n      <td>38,199,000</td>\n    </tr>\n    <tr>\n      <th>4</th>\n      <td>Kevin Durant</td>\n      <td>SF</td>\n      <td>Brooklyn Nets</td>\n      <td>38,199,000</td>\n    </tr>\n    <tr>\n      <th>...</th>\n      <td>...</td>\n      <td>...</td>\n      <td>...</td>\n      <td>...</td>\n    </tr>\n    <tr>\n      <th>523</th>\n      <td>Jimmer Fredette</td>\n      <td>G</td>\n      <td>Phoenix Suns</td>\n      <td>208,509</td>\n    </tr>\n    <tr>\n      <th>524</th>\n      <td>Jontay Porter</td>\n      <td>PF</td>\n      <td>Memphis Grizzlies</td>\n      <td>197,933</td>\n    </tr>\n    <tr>\n      <th>525</th>\n      <td>Anthony Tolliver</td>\n      <td>PF</td>\n      <td>Memphis Grizzlies</td>\n      <td>183,115</td>\n    </tr>\n    <tr>\n      <th>526</th>\n      <td>Tyler Johnson</td>\n      <td>SG</td>\n      <td>Phoenix Suns</td>\n      <td>183,115</td>\n    </tr>\n    <tr>\n      <th>527</th>\n      <td>Luguentz Dort</td>\n      <td>SG</td>\n      <td>Oklahoma City Thunder</td>\n      <td>155,647</td>\n    </tr>\n  </tbody>\n</table>\n<p>528 rows × 4 columns</p>\n</div>"
     },
     "metadata": {},
     "execution_count": 7
    }
   ],
   "source": [
    "salary_df = pd.DataFrame()\n",
    "salary_df.append(pickle.load(open('salary_list.p', 'rb')))"
   ]
  },
  {
   "cell_type": "code",
   "execution_count": null,
   "metadata": {},
   "outputs": [],
   "source": [
    "print('hellasfg')"
   ]
  }
 ]
}